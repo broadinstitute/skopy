{
 "cells": [
  {
   "cell_type": "code",
   "execution_count": 1,
   "metadata": {
    "collapsed": true
   },
   "outputs": [],
   "source": [
    "%matplotlib inline"
   ]
  },
  {
   "cell_type": "code",
   "execution_count": 2,
   "metadata": {
    "collapsed": true
   },
   "outputs": [],
   "source": [
    "import pandas\n",
    "import os.path\n",
    "import pkg_resources\n",
    "import sqlalchemy\n",
    "import sqlalchemy.orm\n",
    "import skopy.features\n",
    "import sklearn.decomposition\n",
    "import sklearn.preprocessing"
   ]
  },
  {
   "cell_type": "code",
   "execution_count": 3,
   "metadata": {
    "collapsed": true
   },
   "outputs": [],
   "source": [
    "directory = pkg_resources.resource_filename(\"skopy\", \"data\")"
   ]
  },
  {
   "cell_type": "code",
   "execution_count": 4,
   "metadata": {
    "collapsed": false
   },
   "outputs": [],
   "source": [
    "connection = \"sqlite:///{}/measurements.sqlite\".format(directory)"
   ]
  },
  {
   "cell_type": "code",
   "execution_count": 5,
   "metadata": {
    "collapsed": false
   },
   "outputs": [],
   "source": [
    "engine = sqlalchemy.create_engine(connection)\n",
    "\n",
    "skopy.features.Base.metadata.create_all(engine)\n",
    "\n",
    "session = sqlalchemy.orm.sessionmaker()\n",
    "\n",
    "session.configure(bind=engine)\n",
    "\n",
    "session = session()"
   ]
  },
  {
   "cell_type": "code",
   "execution_count": 6,
   "metadata": {
    "collapsed": true
   },
   "outputs": [],
   "source": [
    "metadata = pandas.read_csv(\"../metadata.csv\")"
   ]
  },
  {
   "cell_type": "code",
   "execution_count": 7,
   "metadata": {
    "collapsed": false
   },
   "outputs": [],
   "source": [
    "for _, record in metadata.iterrows():\n",
    "    x_pathname = os.path.join(directory, record[\"image\"])\n",
    "    y_pathname = os.path.join(directory, record[\"label\"])\n",
    "  \n",
    "    image = skopy.features.Image(x_pathname, y_pathname)\n",
    "\n",
    "    session.add(image)"
   ]
  },
  {
   "cell_type": "code",
   "execution_count": 8,
   "metadata": {
    "collapsed": true
   },
   "outputs": [],
   "source": [
    "session.commit()"
   ]
  },
  {
   "cell_type": "code",
   "execution_count": 9,
   "metadata": {
    "collapsed": false
   },
   "outputs": [],
   "source": [
    "images = pandas.read_sql_table(\"images\", connection)"
   ]
  },
  {
   "cell_type": "code",
   "execution_count": 10,
   "metadata": {
    "collapsed": true
   },
   "outputs": [],
   "source": [
    "instances = pandas.read_sql_table(\"instances\", connection)"
   ]
  },
  {
   "cell_type": "code",
   "execution_count": 11,
   "metadata": {
    "collapsed": false
   },
   "outputs": [],
   "source": [
    "features = pandas.merge(images, instances, left_on=\"id\", right_on=\"image_id\")\n",
    "\n",
    "column_names = [\n",
    "    \"id_x\",\n",
    "    \"id_y\",\n",
    "    \"image_id\",\n",
    "    \"image_pathname\",\n",
    "    \"index\",\n",
    "    \"label_pathname\",\n",
    "    \"pathname_x\",\n",
    "    \"pathname_y\"\n",
    "]\n",
    "\n",
    "metadata = features[column_names]\n",
    "\n",
    "dropped_column_names = [\n",
    "    \"id_x\", \n",
    "    \"id_y\", \n",
    "    \"image_pathname\", \n",
    "    \"label_pathname\"\n",
    "]\n",
    "\n",
    "metadata = metadata.drop(dropped_column_names, 1)\n",
    "\n",
    "metadata.columns = [\"id\", \"index\", \"image\", \"mask\"]\n",
    "\n",
    "features = features.drop(column_names, 1)\n",
    "\n",
    "features.columns = features.columns.str.replace(\"(.*)_x\", \"x_\\g<0>\")\n",
    "features.columns = features.columns.str.replace(\"(.*)_y\", \"y_\\g<0>\")\n",
    "\n",
    "features.columns = features.columns.str.replace(\"_x\", \"\")\n",
    "features.columns = features.columns.str.replace(\"_y\", \"\")"
   ]
  },
  {
   "cell_type": "code",
   "execution_count": 13,
   "metadata": {
    "collapsed": false
   },
   "outputs": [],
   "source": [
    "imputed = features.dropna()"
   ]
  },
  {
   "cell_type": "code",
   "execution_count": 20,
   "metadata": {
    "collapsed": false
   },
   "outputs": [],
   "source": [
    "scaled = sklearn.preprocessing.StandardScaler()\n",
    "\n",
    "scaled.fit(imputed)\n",
    "\n",
    "scaled = standard_scaler.fit_transform(imputed)\n",
    "\n",
    "scaled = pandas.DataFrame(scaled, columns=imputed.columns)"
   ]
  },
  {
   "cell_type": "code",
   "execution_count": 18,
   "metadata": {
    "collapsed": false
   },
   "outputs": [],
   "source": []
  },
  {
   "cell_type": "code",
   "execution_count": 22,
   "metadata": {
    "collapsed": false
   },
   "outputs": [
    {
     "data": {
      "text/plain": [
       "(631, 808)"
      ]
     },
     "execution_count": 22,
     "metadata": {},
     "output_type": "execute_result"
    }
   ],
   "source": [
    "scaled.shape"
   ]
  },
  {
   "cell_type": "code",
   "execution_count": null,
   "metadata": {
    "collapsed": true
   },
   "outputs": [],
   "source": []
  }
 ],
 "metadata": {
  "kernelspec": {
   "display_name": "Python 3",
   "language": "python",
   "name": "python3"
  },
  "language_info": {
   "codemirror_mode": {
    "name": "ipython",
    "version": 3
   },
   "file_extension": ".py",
   "mimetype": "text/x-python",
   "name": "python",
   "nbconvert_exporter": "python",
   "pygments_lexer": "ipython3",
   "version": "3.6.1"
  }
 },
 "nbformat": 4,
 "nbformat_minor": 2
}
